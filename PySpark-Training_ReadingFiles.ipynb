{
 "cells": [
  {
   "cell_type": "code",
   "execution_count": null,
   "id": "8dbb9080",
   "metadata": {},
   "outputs": [],
   "source": [
    "# Installing PySpark"
   ]
  },
  {
   "cell_type": "code",
   "execution_count": null,
   "id": "d56dc107",
   "metadata": {},
   "outputs": [],
   "source": [
    "!pip install pyspark"
   ]
  },
  {
   "cell_type": "code",
   "execution_count": null,
   "id": "39215185",
   "metadata": {},
   "outputs": [],
   "source": [
    "# Importing Libraries"
   ]
  },
  {
   "cell_type": "code",
   "execution_count": null,
   "id": "342e678a",
   "metadata": {},
   "outputs": [],
   "source": [
    "import pyspark\n",
    "import pandas as pd"
   ]
  },
  {
   "cell_type": "code",
   "execution_count": null,
   "id": "9ee1728a",
   "metadata": {},
   "outputs": [],
   "source": [
    "# Using Pandas Library to Read .csv Files"
   ]
  },
  {
   "cell_type": "code",
   "execution_count": null,
   "id": "bec30d97",
   "metadata": {},
   "outputs": [],
   "source": [
    "pd.read_csv('Names_and_Ages.csv')"
   ]
  },
  {
   "cell_type": "code",
   "execution_count": null,
   "id": "0c11cbb8",
   "metadata": {},
   "outputs": [],
   "source": [
    "# Initializing PySpark"
   ]
  },
  {
   "cell_type": "code",
   "execution_count": null,
   "id": "6794e578",
   "metadata": {},
   "outputs": [],
   "source": [
    "from pyspark.sql import SparkSession"
   ]
  },
  {
   "cell_type": "code",
   "execution_count": null,
   "id": "9d805b98",
   "metadata": {},
   "outputs": [],
   "source": [
    "pyspark.version"
   ]
  },
  {
   "cell_type": "code",
   "execution_count": null,
   "id": "b4b1bae1",
   "metadata": {},
   "outputs": [],
   "source": [
    "spark = SparkSession.builder.appName('Testing').getOrCreate()"
   ]
  },
  {
   "cell_type": "code",
   "execution_count": null,
   "id": "e968c48f",
   "metadata": {},
   "outputs": [],
   "source": [
    "spark"
   ]
  },
  {
   "cell_type": "code",
   "execution_count": null,
   "id": "b048e385",
   "metadata": {},
   "outputs": [],
   "source": [
    "df_pyspark = spark.read.csv('Names_and_Ages.csv')"
   ]
  },
  {
   "cell_type": "code",
   "execution_count": null,
   "id": "030dcdd3",
   "metadata": {},
   "outputs": [],
   "source": [
    "df_pyspark"
   ]
  },
  {
   "cell_type": "code",
   "execution_count": null,
   "id": "260637fa",
   "metadata": {},
   "outputs": [],
   "source": [
    "df_pyspark.show()"
   ]
  },
  {
   "cell_type": "code",
   "execution_count": null,
   "id": "4321a1b6",
   "metadata": {},
   "outputs": [],
   "source": [
    "spark.read.option('header','true').csv('Names_and_Ages.csv')"
   ]
  },
  {
   "cell_type": "code",
   "execution_count": null,
   "id": "d54b40a7",
   "metadata": {},
   "outputs": [],
   "source": [
    "spark.read.option('hearder', 'true').csv('Names_and_Ages.csv').show()"
   ]
  },
  {
   "cell_type": "code",
   "execution_count": null,
   "id": "2d3be4a3",
   "metadata": {},
   "outputs": [],
   "source": [
    "df_pyspark = apark.read.option('header', 'true').csv('Names_and_Ages.csv')"
   ]
  },
  {
   "cell_type": "code",
   "execution_count": null,
   "id": "49d3f8d4",
   "metadata": {},
   "outputs": [],
   "source": [
    "type(df_pyspark)"
   ]
  },
  {
   "cell_type": "code",
   "execution_count": null,
   "id": "8c985d19",
   "metadata": {},
   "outputs": [],
   "source": [
    "df_pyspark.head(3)"
   ]
  },
  {
   "cell_type": "code",
   "execution_count": null,
   "id": "eb820501",
   "metadata": {},
   "outputs": [],
   "source": [
    "df_pyspark.printSchema()"
   ]
  }
 ],
 "metadata": {
  "kernelspec": {
   "display_name": "Python 3 (ipykernel)",
   "language": "python",
   "name": "python3"
  },
  "language_info": {
   "codemirror_mode": {
    "name": "ipython",
    "version": 3
   },
   "file_extension": ".py",
   "mimetype": "text/x-python",
   "name": "python",
   "nbconvert_exporter": "python",
   "pygments_lexer": "ipython3",
   "version": "3.9.7"
  }
 },
 "nbformat": 4,
 "nbformat_minor": 5
}
