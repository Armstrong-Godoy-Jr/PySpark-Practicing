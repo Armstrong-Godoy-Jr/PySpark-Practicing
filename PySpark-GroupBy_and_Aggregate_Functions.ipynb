{
 "cells": [
  {
   "cell_type": "code",
   "execution_count": null,
   "id": "7550af3b",
   "metadata": {},
   "outputs": [],
   "source": [
    "from pyspark.sql import SparkSession"
   ]
  },
  {
   "cell_type": "code",
   "execution_count": null,
   "id": "cb72dbe9",
   "metadata": {},
   "outputs": [],
   "source": [
    "spark = SparkSession.builder.appName('Agg').getOrCreate()"
   ]
  },
  {
   "cell_type": "code",
   "execution_count": null,
   "id": "17acac2f",
   "metadata": {},
   "outputs": [],
   "source": [
    "spark"
   ]
  },
  {
   "cell_type": "code",
   "execution_count": null,
   "id": "2f7a5556",
   "metadata": {},
   "outputs": [],
   "source": [
    "df_pyspark = spark.read.csv('Test-3.csv', header = True, inferSchema = True)"
   ]
  },
  {
   "cell_type": "code",
   "execution_count": null,
   "id": "f9d660fa",
   "metadata": {},
   "outputs": [],
   "source": [
    "df_pyspark.show()"
   ]
  },
  {
   "cell_type": "code",
   "execution_count": null,
   "id": "90b568a3",
   "metadata": {},
   "outputs": [],
   "source": [
    "df_pyspark.printSchema()"
   ]
  },
  {
   "cell_type": "code",
   "execution_count": null,
   "id": "34801e82",
   "metadata": {},
   "outputs": [],
   "source": [
    "# Group by "
   ]
  },
  {
   "cell_type": "code",
   "execution_count": null,
   "id": "725db5a7",
   "metadata": {},
   "outputs": [],
   "source": [
    "## Group by to find the maximum salary"
   ]
  },
  {
   "cell_type": "code",
   "execution_count": null,
   "id": "c994e735",
   "metadata": {},
   "outputs": [],
   "source": [
    "df_pyspark.groupBy('Name').sum().show()"
   ]
  },
  {
   "cell_type": "code",
   "execution_count": null,
   "id": "84c64a35",
   "metadata": {},
   "outputs": [],
   "source": [
    "## Group by to show which departments give maximum salary"
   ]
  },
  {
   "cell_type": "code",
   "execution_count": null,
   "id": "85118338",
   "metadata": {},
   "outputs": [],
   "source": [
    "df_pyspark.groupBy('Departments').sum().show()"
   ]
  },
  {
   "cell_type": "code",
   "execution_count": null,
   "id": "9d776150",
   "metadata": {},
   "outputs": [],
   "source": [
    "## Group by to show the mean salary of each department"
   ]
  },
  {
   "cell_type": "code",
   "execution_count": null,
   "id": "bd6967b9",
   "metadata": {},
   "outputs": [],
   "source": [
    "df_pyspark.groupBy('Departments').mean().show()"
   ]
  },
  {
   "cell_type": "code",
   "execution_count": null,
   "id": "640061fc",
   "metadata": {},
   "outputs": [],
   "source": [
    "## Group by to show how many each department appears in each department"
   ]
  },
  {
   "cell_type": "code",
   "execution_count": null,
   "id": "7f5c99d2",
   "metadata": {},
   "outputs": [],
   "source": [
    "df_pyspark.groupBy('Departments').count().show()"
   ]
  },
  {
   "cell_type": "code",
   "execution_count": null,
   "id": "a09e15c8",
   "metadata": {},
   "outputs": [],
   "source": [
    "## Show who gets the maximum salary"
   ]
  },
  {
   "cell_type": "code",
   "execution_count": null,
   "id": "8c91ae29",
   "metadata": {},
   "outputs": [],
   "source": [
    "df_pyspark.groupBy('Name').max().show()"
   ]
  },
  {
   "cell_type": "code",
   "execution_count": null,
   "id": "1d61a17d",
   "metadata": {},
   "outputs": [],
   "source": [
    "## Show who gets the minimum salary"
   ]
  },
  {
   "cell_type": "code",
   "execution_count": null,
   "id": "fbb554f8",
   "metadata": {},
   "outputs": [],
   "source": [
    "df_pyspark.groupBy('Name').min().show( )"
   ]
  },
  {
   "cell_type": "code",
   "execution_count": null,
   "id": "7d7e0eba",
   "metadata": {},
   "outputs": [],
   "source": [
    "# Function Aggregate: sum of salaries "
   ]
  },
  {
   "cell_type": "code",
   "execution_count": null,
   "id": "3ac214e0",
   "metadata": {},
   "outputs": [],
   "source": [
    "df_pyspark.agg({'Salary':'sum'}).show()"
   ]
  }
 ],
 "metadata": {
  "kernelspec": {
   "display_name": "Python 3 (ipykernel)",
   "language": "python",
   "name": "python3"
  },
  "language_info": {
   "codemirror_mode": {
    "name": "ipython",
    "version": 3
   },
   "file_extension": ".py",
   "mimetype": "text/x-python",
   "name": "python",
   "nbconvert_exporter": "python",
   "pygments_lexer": "ipython3",
   "version": "3.9.7"
  }
 },
 "nbformat": 4,
 "nbformat_minor": 5
}
