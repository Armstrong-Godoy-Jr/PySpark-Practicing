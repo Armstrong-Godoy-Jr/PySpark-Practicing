{
 "cells": [
  {
   "cell_type": "code",
   "execution_count": null,
   "id": "6022e207",
   "metadata": {},
   "outputs": [],
   "source": [
    "# Initializing PySpark"
   ]
  },
  {
   "cell_type": "code",
   "execution_count": null,
   "id": "18a06456",
   "metadata": {},
   "outputs": [],
   "source": [
    "from pyspark.sql import SparkSession"
   ]
  },
  {
   "cell_type": "code",
   "execution_count": null,
   "id": "55ae1f4f",
   "metadata": {},
   "outputs": [],
   "source": [
    "spark = SparkSession.builder.appName('Dataframe').getOrCreate()"
   ]
  },
  {
   "cell_type": "code",
   "execution_count": null,
   "id": "607fb7af",
   "metadata": {},
   "outputs": [],
   "source": [
    "spark"
   ]
  },
  {
   "cell_type": "code",
   "execution_count": null,
   "id": "931a911c",
   "metadata": {},
   "outputs": [],
   "source": [
    "# Reading the Dataset"
   ]
  },
  {
   "cell_type": "code",
   "execution_count": null,
   "id": "b408a808",
   "metadata": {},
   "outputs": [],
   "source": [
    "spark.read.option('header', 'true').csv('Names_and_Ages.csv')"
   ]
  },
  {
   "cell_type": "code",
   "execution_count": null,
   "id": "26e372d9",
   "metadata": {},
   "outputs": [],
   "source": [
    "spark.read.option('header', 'true').csv('Names_and_Ages.csv').show()"
   ]
  },
  {
   "cell_type": "code",
   "execution_count": null,
   "id": "0d66ea5f",
   "metadata": {},
   "outputs": [],
   "source": [
    "df_pyspark = spark.read.option('header', 'true').csv('Names_and_Ages.csv', inferSchema = True)"
   ]
  },
  {
   "cell_type": "code",
   "execution_count": null,
   "id": "963f1f5c",
   "metadata": {},
   "outputs": [],
   "source": [
    "## Check the Schema"
   ]
  },
  {
   "cell_type": "code",
   "execution_count": null,
   "id": "0989d775",
   "metadata": {},
   "outputs": [],
   "source": [
    "df_pyspark.printSchema()"
   ]
  },
  {
   "cell_type": "code",
   "execution_count": null,
   "id": "9185804d",
   "metadata": {},
   "outputs": [],
   "source": [
    "df_pyspark = spark.read.csv('Names_and_Ages.csv', header = True, inferSchema = True)"
   ]
  },
  {
   "cell_type": "code",
   "execution_count": null,
   "id": "3b46a83d",
   "metadata": {},
   "outputs": [],
   "source": [
    "df_pyspark.show()"
   ]
  },
  {
   "cell_type": "code",
   "execution_count": null,
   "id": "feb21245",
   "metadata": {},
   "outputs": [],
   "source": [
    "df_pyspark.printSchema()"
   ]
  },
  {
   "cell_type": "code",
   "execution_count": null,
   "id": "a1b5f861",
   "metadata": {},
   "outputs": [],
   "source": [
    "type(df_pyspark)"
   ]
  },
  {
   "cell_type": "code",
   "execution_count": null,
   "id": "e322789f",
   "metadata": {},
   "outputs": [],
   "source": [
    "# Selecting Columns and Indexing"
   ]
  },
  {
   "cell_type": "code",
   "execution_count": null,
   "id": "e6f3e5fe",
   "metadata": {},
   "outputs": [],
   "source": [
    "df_pyspark.columns"
   ]
  },
  {
   "cell_type": "code",
   "execution_count": null,
   "id": "4f210d0f",
   "metadata": {},
   "outputs": [],
   "source": [
    "df_pyspark.show()"
   ]
  },
  {
   "cell_type": "code",
   "execution_count": null,
   "id": "3bbdbc53",
   "metadata": {},
   "outputs": [],
   "source": [
    "## Pick up just an spedific column (Name)"
   ]
  },
  {
   "cell_type": "code",
   "execution_count": null,
   "id": "27ebadca",
   "metadata": {},
   "outputs": [],
   "source": [
    "df_pyspark.select('Name').show()"
   ]
  },
  {
   "cell_type": "code",
   "execution_count": null,
   "id": "7a562187",
   "metadata": {},
   "outputs": [],
   "source": [
    "type(df_pyspark.select('Name'))"
   ]
  },
  {
   "cell_type": "code",
   "execution_count": null,
   "id": "e59bf10b",
   "metadata": {},
   "outputs": [],
   "source": [
    "## Pick up more than one column"
   ]
  },
  {
   "cell_type": "code",
   "execution_count": null,
   "id": "da5304df",
   "metadata": {},
   "outputs": [],
   "source": [
    "df_pyspark.select(['Name'], ['Age'])"
   ]
  },
  {
   "cell_type": "code",
   "execution_count": null,
   "id": "6a06c3b6",
   "metadata": {},
   "outputs": [],
   "source": [
    "df_pyspark.select(['Name'], ['Age']).show()"
   ]
  },
  {
   "cell_type": "code",
   "execution_count": null,
   "id": "e8b07076",
   "metadata": {},
   "outputs": [],
   "source": [
    "## Check the data types"
   ]
  },
  {
   "cell_type": "code",
   "execution_count": null,
   "id": "1bb3d5ea",
   "metadata": {},
   "outputs": [],
   "source": [
    "df_pyspark.dtypes"
   ]
  },
  {
   "cell_type": "code",
   "execution_count": null,
   "id": "d0a937e5",
   "metadata": {},
   "outputs": [],
   "source": [
    "## Describe "
   ]
  },
  {
   "cell_type": "code",
   "execution_count": null,
   "id": "abe03f87",
   "metadata": {},
   "outputs": [],
   "source": [
    "df_pyspark.describe()"
   ]
  },
  {
   "cell_type": "code",
   "execution_count": null,
   "id": "a837ef30",
   "metadata": {},
   "outputs": [],
   "source": [
    "df_pyspark.describe().show()"
   ]
  },
  {
   "cell_type": "code",
   "execution_count": null,
   "id": "e0329aed",
   "metadata": {},
   "outputs": [],
   "source": [
    "# Adding and Dropping Columns"
   ]
  },
  {
   "cell_type": "code",
   "execution_count": null,
   "id": "023f781b",
   "metadata": {},
   "outputs": [],
   "source": [
    "df_pyspark = df_pyspark.withColumn('Age after 2 years', df_pyspark['Age'] + 2)"
   ]
  },
  {
   "cell_type": "code",
   "execution_count": null,
   "id": "2fc0cc19",
   "metadata": {},
   "outputs": [],
   "source": [
    "df_spark.withColumn('Age after 2 years', df_pyspark['Age'] + 2).show()"
   ]
  },
  {
   "cell_type": "code",
   "execution_count": null,
   "id": "f93571c1",
   "metadata": {},
   "outputs": [],
   "source": [
    "df_pyspark.show()"
   ]
  },
  {
   "cell_type": "code",
   "execution_count": null,
   "id": "a8cbe3e0",
   "metadata": {},
   "outputs": [],
   "source": [
    "df_pyspark = df_pyspark.drop('Age after 2 years')"
   ]
  },
  {
   "cell_type": "code",
   "execution_count": null,
   "id": "1ccbecd7",
   "metadata": {},
   "outputs": [],
   "source": [
    "df_pyspark.show()"
   ]
  },
  {
   "cell_type": "code",
   "execution_count": null,
   "id": "c67ac4ef",
   "metadata": {},
   "outputs": [],
   "source": [
    "# Renaming Columns"
   ]
  },
  {
   "cell_type": "code",
   "execution_count": null,
   "id": "231a7721",
   "metadata": {},
   "outputs": [],
   "source": [
    "df_pyspark.withColumnRenamed('Name', 'New Name').show()"
   ]
  },
  {
   "cell_type": "code",
   "execution_count": null,
   "id": "717088e3",
   "metadata": {},
   "outputs": [],
   "source": [
    "df_pyspark = df_pyspark.withColumnRenamed('Name', 'New Name')"
   ]
  }
 ],
 "metadata": {
  "kernelspec": {
   "display_name": "Python 3 (ipykernel)",
   "language": "python",
   "name": "python3"
  },
  "language_info": {
   "codemirror_mode": {
    "name": "ipython",
    "version": 3
   },
   "file_extension": ".py",
   "mimetype": "text/x-python",
   "name": "python",
   "nbconvert_exporter": "python",
   "pygments_lexer": "ipython3",
   "version": "3.9.7"
  }
 },
 "nbformat": 4,
 "nbformat_minor": 5
}
