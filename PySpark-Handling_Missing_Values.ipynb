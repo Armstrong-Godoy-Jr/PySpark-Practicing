{
 "cells": [
  {
   "cell_type": "code",
   "execution_count": null,
   "id": "6eb06e74",
   "metadata": {},
   "outputs": [],
   "source": [
    "from pyspark.sql import SparkSession\n",
    "spark = SparkSession.buider.appName('Practice').getOrCreate()"
   ]
  },
  {
   "cell_type": "code",
   "execution_count": null,
   "id": "95232876",
   "metadata": {},
   "outputs": [],
   "source": [
    "spark.read.csv('Missing_Values.csv', header = True, inferSchema = True)"
   ]
  },
  {
   "cell_type": "code",
   "execution_count": null,
   "id": "ff99120e",
   "metadata": {},
   "outputs": [],
   "source": [
    "spark.read.csv('Missing_Values.csv', header = True, inferSchema = True).show()"
   ]
  },
  {
   "cell_type": "code",
   "execution_count": null,
   "id": "4b9c91b4",
   "metadata": {},
   "outputs": [],
   "source": [
    "df_pyspark = spark.read.csv('Missing_Values.csv', header = True, inferSchema = True)"
   ]
  },
  {
   "cell_type": "code",
   "execution_count": null,
   "id": "750f3e89",
   "metadata": {},
   "outputs": [],
   "source": [
    "df_pyspark.show()"
   ]
  },
  {
   "cell_type": "code",
   "execution_count": null,
   "id": "3320d761",
   "metadata": {},
   "outputs": [],
   "source": [
    "## Dropping Columns"
   ]
  },
  {
   "cell_type": "code",
   "execution_count": null,
   "id": "740f36d7",
   "metadata": {},
   "outputs": [],
   "source": [
    "df_pyspark.drop('Name')"
   ]
  },
  {
   "cell_type": "code",
   "execution_count": null,
   "id": "8f72281c",
   "metadata": {},
   "outputs": [],
   "source": [
    "df_pyspark.drop('Name').show()"
   ]
  },
  {
   "cell_type": "code",
   "execution_count": null,
   "id": "f0f7a9f1",
   "metadata": {},
   "outputs": [],
   "source": [
    "df_pyspark = df_pyspark.drop('Name')"
   ]
  },
  {
   "cell_type": "code",
   "execution_count": null,
   "id": "9429326b",
   "metadata": {},
   "outputs": [],
   "source": [
    "## Deleting all rows that contain null values"
   ]
  },
  {
   "cell_type": "code",
   "execution_count": null,
   "id": "6bc997e1",
   "metadata": {},
   "outputs": [],
   "source": [
    "df_pyspark.na.drop().show()"
   ]
  },
  {
   "cell_type": "code",
   "execution_count": null,
   "id": "d0ec0adb",
   "metadata": {},
   "outputs": [],
   "source": [
    "df_pyspark.na.drop(how = 'any').show()"
   ]
  },
  {
   "cell_type": "code",
   "execution_count": null,
   "id": "c528548b",
   "metadata": {},
   "outputs": [],
   "source": [
    "## Deleting only rows that contain ALL colunms with null values"
   ]
  },
  {
   "cell_type": "code",
   "execution_count": null,
   "id": "30a38136",
   "metadata": {},
   "outputs": [],
   "source": [
    "df_pyspark.na.drop(how = 'all').show()"
   ]
  },
  {
   "cell_type": "code",
   "execution_count": null,
   "id": "7bd9f76d",
   "metadata": {},
   "outputs": [],
   "source": [
    "## Threshould"
   ]
  },
  {
   "cell_type": "code",
   "execution_count": null,
   "id": "aa882d1d",
   "metadata": {},
   "outputs": [],
   "source": [
    "### Deleting rows that contain at least less than 2 non null values"
   ]
  },
  {
   "cell_type": "code",
   "execution_count": null,
   "id": "c0c83aa2",
   "metadata": {},
   "outputs": [],
   "source": [
    "df_pyspark.na.drop(how = 'any', thresh = 2).show()"
   ]
  },
  {
   "cell_type": "code",
   "execution_count": null,
   "id": "a5305ada",
   "metadata": {},
   "outputs": [],
   "source": [
    "### Deleting rows that contain at least less than 2 non null values"
   ]
  },
  {
   "cell_type": "code",
   "execution_count": null,
   "id": "13049e49",
   "metadata": {},
   "outputs": [],
   "source": [
    "df_pyspark.na.drop(how = 'any', thresh = 3).show()"
   ]
  },
  {
   "cell_type": "code",
   "execution_count": null,
   "id": "b9ae981c",
   "metadata": {},
   "outputs": [],
   "source": [
    "## Subset"
   ]
  },
  {
   "cell_type": "code",
   "execution_count": null,
   "id": "b9625029",
   "metadata": {},
   "outputs": [],
   "source": [
    "### Deleting rows that contain null values in a specific column"
   ]
  },
  {
   "cell_type": "code",
   "execution_count": null,
   "id": "a983f42a",
   "metadata": {},
   "outputs": [],
   "source": [
    "df_pyspark.na.drop(how = 'any', subset = ['Age']).show()"
   ]
  },
  {
   "cell_type": "code",
   "execution_count": null,
   "id": "fdae08f2",
   "metadata": {},
   "outputs": [],
   "source": [
    "## Filling the Missing Values"
   ]
  },
  {
   "cell_type": "code",
   "execution_count": null,
   "id": "83c7cdfd",
   "metadata": {},
   "outputs": [],
   "source": [
    "### Replacing the null values with the expression 'Missing Values'"
   ]
  },
  {
   "cell_type": "code",
   "execution_count": null,
   "id": "a614cb56",
   "metadata": {},
   "outputs": [],
   "source": [
    "df_pyspark.na.fill('Missing Values').show()"
   ]
  },
  {
   "cell_type": "code",
   "execution_count": null,
   "id": "d809a3b0",
   "metadata": {},
   "outputs": [],
   "source": [
    "### Replacing the null values with the expression 'Missing Values' only in a specific column"
   ]
  },
  {
   "cell_type": "code",
   "execution_count": null,
   "id": "46ed087c",
   "metadata": {},
   "outputs": [],
   "source": [
    "df_pyspark.na.fill('Missing Values', ['Experience']).show()"
   ]
  },
  {
   "cell_type": "code",
   "execution_count": null,
   "id": "6262fdf3",
   "metadata": {},
   "outputs": [],
   "source": [
    "### Replacing the null values with the expression 'Missing Values' only in two specific columns"
   ]
  },
  {
   "cell_type": "code",
   "execution_count": null,
   "id": "abbd6b9a",
   "metadata": {},
   "outputs": [],
   "source": [
    "df_pyspark.na.fill('Missing Values', ['Experience', 'Age']).show()"
   ]
  },
  {
   "cell_type": "code",
   "execution_count": null,
   "id": "d77c9391",
   "metadata": {},
   "outputs": [],
   "source": [
    "### Replacing the null values with the mean value of the columns using function 'Imputer'"
   ]
  },
  {
   "cell_type": "code",
   "execution_count": null,
   "id": "141b30d9",
   "metadata": {},
   "outputs": [],
   "source": [
    "from pyspark.ml.feature import Imputer"
   ]
  },
  {
   "cell_type": "code",
   "execution_count": null,
   "id": "13a4fae7",
   "metadata": {},
   "outputs": [],
   "source": [
    "imputer = Imputer(\n",
    "    inputCols = ['Age', 'Experience', 'Salary'],\n",
    "    outputCols = [f'{c}_imputed' for c in ['Age', 'Experience', 'Salary']]\n",
    "    ).setStrategy('mean')"
   ]
  },
  {
   "cell_type": "code",
   "execution_count": null,
   "id": "42f79fd0",
   "metadata": {},
   "outputs": [],
   "source": [
    "#### Add inputation cols to df"
   ]
  },
  {
   "cell_type": "code",
   "execution_count": null,
   "id": "afb72c6a",
   "metadata": {},
   "outputs": [],
   "source": [
    "imputer.fit(df_pyspark).transform(df_pyspark).show()"
   ]
  },
  {
   "cell_type": "code",
   "execution_count": null,
   "id": "ba8c72dd",
   "metadata": {},
   "outputs": [],
   "source": [
    "#### I also could fill null values by median values intead of mean. I only would use 'median' inside the parentheses of setStrategy"
   ]
  }
 ],
 "metadata": {
  "kernelspec": {
   "display_name": "Python 3 (ipykernel)",
   "language": "python",
   "name": "python3"
  },
  "language_info": {
   "codemirror_mode": {
    "name": "ipython",
    "version": 3
   },
   "file_extension": ".py",
   "mimetype": "text/x-python",
   "name": "python",
   "nbconvert_exporter": "python",
   "pygments_lexer": "ipython3",
   "version": "3.9.7"
  }
 },
 "nbformat": 4,
 "nbformat_minor": 5
}
