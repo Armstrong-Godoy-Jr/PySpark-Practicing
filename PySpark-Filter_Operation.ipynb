{
 "cells": [
  {
   "cell_type": "code",
   "execution_count": 1,
   "id": "2e60c43a",
   "metadata": {},
   "outputs": [],
   "source": [
    "from pyspark.sql import SparkSession "
   ]
  },
  {
   "cell_type": "code",
   "execution_count": null,
   "id": "6aae5d0f",
   "metadata": {},
   "outputs": [],
   "source": [
    "df_pyspark = spark.builder.appName('dataframe').getOrCreate()"
   ]
  },
  {
   "cell_type": "code",
   "execution_count": null,
   "id": "d42a4c8e",
   "metadata": {},
   "outputs": [],
   "source": [
    "df_pyspark = spark.read.csv('Test-1.csv', header = True, inferSchema = True)"
   ]
  },
  {
   "cell_type": "code",
   "execution_count": null,
   "id": "fa8f7397",
   "metadata": {},
   "outputs": [],
   "source": [
    "df_pyspark.show()"
   ]
  },
  {
   "cell_type": "code",
   "execution_count": null,
   "id": "7185a0dc",
   "metadata": {},
   "outputs": [],
   "source": [
    "# Filter Operations"
   ]
  },
  {
   "cell_type": "code",
   "execution_count": null,
   "id": "a3901ff9",
   "metadata": {},
   "outputs": [],
   "source": [
    "## Filter Salaries less than or equal 20000"
   ]
  },
  {
   "cell_type": "code",
   "execution_count": null,
   "id": "fd48d781",
   "metadata": {},
   "outputs": [],
   "source": [
    "df_pyspark.filter('Salary <= 20000').show()"
   ]
  },
  {
   "cell_type": "code",
   "execution_count": null,
   "id": "f582bb4a",
   "metadata": {},
   "outputs": [],
   "source": [
    "### Use the filter above but showing only specific columns ('Name' and 'Age')"
   ]
  },
  {
   "cell_type": "code",
   "execution_count": null,
   "id": "48f18561",
   "metadata": {},
   "outputs": [],
   "source": [
    "df_pyspark.filter('Salary <= 2000').select(['Name', 'Age']).show()"
   ]
  },
  {
   "cell_type": "code",
   "execution_count": null,
   "id": "9e3f6b62",
   "metadata": {},
   "outputs": [],
   "source": [
    "## I can set more than one filter"
   ]
  },
  {
   "cell_type": "code",
   "execution_count": null,
   "id": "f7568ff7",
   "metadata": {},
   "outputs": [],
   "source": [
    "df_pyspark.filter((df_pyspark['Salary <= 20000']) &\n",
    "                 (df_pyspark['Salary >= 15000'])).show()"
   ]
  },
  {
   "cell_type": "code",
   "execution_count": null,
   "id": "d157a388",
   "metadata": {},
   "outputs": [],
   "source": [
    "## I could also do that same request but using the operator 'or' simbolized by '|'"
   ]
  },
  {
   "cell_type": "code",
   "execution_count": null,
   "id": "d8e6cb33",
   "metadata": {},
   "outputs": [],
   "source": [
    "df_pyspark.filter((df_pyspark['Salary <= 20000']) |\n",
    "                 df_pyspark['Salary >= 50000'])).show()"
   ]
  },
  {
   "cell_type": "code",
   "execution_count": null,
   "id": "ffd4bc47",
   "metadata": {},
   "outputs": [],
   "source": [
    "## I can use '~' as a contrary of the condition of my filter"
   ]
  },
  {
   "cell_type": "code",
   "execution_count": null,
   "id": "3cff4053",
   "metadata": {},
   "outputs": [],
   "source": [
    "df_pyspark.filter(~(df_pyspark['Salary'] <= 20000)).show()"
   ]
  }
 ],
 "metadata": {
  "kernelspec": {
   "display_name": "Python 3 (ipykernel)",
   "language": "python",
   "name": "python3"
  },
  "language_info": {
   "codemirror_mode": {
    "name": "ipython",
    "version": 3
   },
   "file_extension": ".py",
   "mimetype": "text/x-python",
   "name": "python",
   "nbconvert_exporter": "python",
   "pygments_lexer": "ipython3",
   "version": "3.9.7"
  }
 },
 "nbformat": 4,
 "nbformat_minor": 5
}
